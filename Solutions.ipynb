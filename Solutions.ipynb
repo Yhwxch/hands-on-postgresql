{
 "cells": [
  {
   "cell_type": "markdown",
   "metadata": {},
   "source": [
    "![ine-divider](https://user-images.githubusercontent.com/7065401/92672068-398e8080-f2ee-11ea-82d6-ad53f7feb5c0.png)\n",
    "<hr>\n",
    "\n",
    "\n",
    "# PostgreSQL for Python Developers\n",
    "\n",
    "## Hands-on PostgreSQL\n",
    "\n",
    "In this project, you will practice using Python's DB-API to access PostgreSQL.\n",
    "\n",
    "You will need access to a PostgreSQL installation where you have superuser permissions. If you do not have such access elsewhere, installing to your personal workstation is a good idea.  Alternately, you might wish to use a Docker container for a self-contained installation.  See `https://hub.docker.com/_/postgres` for details on that option.  Unless you have a specific need to work with an existing installation, choosing a PostgreSQL version of 12 or higher is best.\n"
   ]
  },
  {
   "cell_type": "markdown",
   "metadata": {},
   "source": [
    "![orange-divider](https://user-images.githubusercontent.com/7065401/98619088-44ab6000-22e1-11eb-8f6d-5532e68ab274.png)\n",
    "\n",
    "## Part 1\n",
    "\n",
    "**Move data into PostgreSQL**\n",
    "\n",
    "In this respository, there is an SQLite database called `Airline-Tweets.sqlite`.  The lesson briefly mentioned `sqlite3` as a module in the standard library that will interact with single-file relational databases.  In particular, `sqlite3`, like `psycopg2` generally follows the DB-API.  Although more specifics of the PostgreSQL data definition language (DDL) is discussed in a later lesson, we assume you have a basic familiarity with the the SQL `CREATE TABLE` command for this purpose.\n",
    "\n",
    "The scenario posted in this problem is that you have some data in a different database (SQLite), and you wish to transfer all contents to PostgreSQL.  Moreover, you wish to do this *entirely* within Python and using the DB-API.  You will need to determine the structure and data types of the SQLite data, create an appropriate PostgreSQL table, and transfer all rows into PostgreSQL.  This particular SQLite data file contains only one table, named `Tweets` (about customer ratings of airlines).\n",
    "\n",
    "To get a partial view of the kind of data we are transferring, this is a query performed within the `sqlite` command shell, which is generally similar to the `psql` command shell that is discussed in later lessons.  However, you should perform all your work in Python for this project (the example does **not** list all the columns).\n",
    "\n",
    "```\n",
    "$ sqlite Airline-Tweets.sqlite\n",
    "SQLite version 3.33.0 2020-08-14 13:23:32\n",
    "Enter \".help\" for usage hints.\n",
    "sqlite> SELECT tweet_id, airline, airline_sentiment, tweet_created FROM Tweets LIMIT 5;\n",
    "tweet_id            airline    airline_sentiment  tweet_created\n",
    "------------------  ---------  -----------------  -------------------------\n",
    "567588278875213824  Delta      neutral            2015-02-16 23:36:05 -0800\n",
    "567590027375702016  Delta      negative           2015-02-16 23:43:02 -0800\n",
    "567591480085463040  United     negative           2015-02-16 23:48:48 -0800\n",
    "567592368451248130  United     negative           2015-02-16 23:52:20 -0800\n",
    "567594449874587648  Southwest  negative           2015-02-17 00:00:36 -0800\n",
    "```"
   ]
  },
  {
   "cell_type": "code",
   "execution_count": null,
   "metadata": {},
   "outputs": [],
   "source": [
    "import psycopg2\n",
    "import sqlite3\n",
    "# ... your code here ..."
   ]
  },
  {
   "cell_type": "markdown",
   "metadata": {},
   "source": [
    "**Hint**\n",
    "\n",
    "Unfortunately, the `cursor.description` in `sqlite3` isn't as informative as one might like.  For guidance, you can look at this:\n",
    "\n",
    "```\n",
    "sqlite> pragma table_info('Tweets');\n",
    "cid  name                          type     notnull  dflt_value  pk\n",
    "---  ----------------------------  -------  -------  ----------  --\n",
    "0    tweet_id                      INTEGER  0                    1\n",
    "1    airline_sentiment             TEXT     0                    0\n",
    "2    airline_sentiment_confidence  NUMERIC  0                    0\n",
    "3    negativereason                TEXT     0                    0\n",
    "4    negativereason_confidence     NUMERIC  0                    0\n",
    "5    airline                       TEXT     0                    0\n",
    "6    airline_sentiment_gold        TEXT     0                    0\n",
    "7    name                          TEXT     0                    0\n",
    "8    negativereason_gold           TEXT     0                    0\n",
    "9    retweet_count                 INTEGER  0                    0\n",
    "10   text                          TEXT     0                    0\n",
    "11   tweet_coord                   TEXT     0                    0\n",
    "12   tweet_created                 TEXT     0                    0\n",
    "13   tweet_location                TEXT     0                    0\n",
    "14   user_timezone                 TEXT     0                    0\n",
    "```\n",
    "\n",
    "It is wise also to examine some sample rows to decide the best PostgreSQL data types.  SQLite is more generic than PostgreSQL about data types."
   ]
  },
  {
   "cell_type": "markdown",
   "metadata": {},
   "source": [
    "**A possible solution**\n",
    "\n",
    "You will need to make some decisions about data types and other details. These are plausible answers.  "
   ]
  },
  {
   "cell_type": "code",
   "execution_count": null,
   "metadata": {},
   "outputs": [],
   "source": [
    "user, pwd, db = 'ine_student', 'ine-password', 'ine'\n",
    "host, port = 'localhost', '5432'\n",
    "con_dest = psycopg2.connect(database=db, host=host, user=user, password=pwd, port=port)\n",
    "cur_dest = con_dest.cursor()"
   ]
  },
  {
   "cell_type": "code",
   "execution_count": null,
   "metadata": {},
   "outputs": [],
   "source": [
    "# create PostgreSQL table\n",
    "sql_create_tweets = '''\n",
    "CREATE TABLE IF NOT EXISTS Tweets (\n",
    "    tweet_id DECIMAL(18) PRIMARY KEY,\n",
    "    airline_sentiment TEXT,\n",
    "    airline_sentiment_confidence REAL,\n",
    "    negativereason TEXT,\n",
    "    negativereason_confidence REAL,\n",
    "    airline TEXT,\n",
    "    airline_sentiment_gold TEXT,\n",
    "    name TEXT,\n",
    "    negativereason_gold TEXT,\n",
    "    retweet_count INT,\n",
    "    text TEXT,\n",
    "    tweet_coord TEXT,\n",
    "    tweet_created TIMESTAMP WITH TIME ZONE,\n",
    "    tweet_location TEXT,\n",
    "    user_timezone TEXT\n",
    "    );\n",
    "'''\n",
    "cur_dest.execute('DROP TABLE Tweets')\n",
    "cur_dest.execute(sql_create_tweets)\n",
    "con_dest.commit()"
   ]
  },
  {
   "cell_type": "code",
   "execution_count": null,
   "metadata": {},
   "outputs": [],
   "source": [
    "con_src = sqlite3.connect('data/Airline-Tweets.sqlite') \n",
    "cur_src = con_src.cursor()\n",
    "cur_src.execute(\"SELECT * FROM Tweets\")"
   ]
  },
  {
   "cell_type": "markdown",
   "metadata": {},
   "source": [
    "The obvious approach will fail because some numeric values are missing, but SQLite gives you an empty string rather than `None`.  We can fix that in Python."
   ]
  },
  {
   "cell_type": "code",
   "execution_count": 5,
   "metadata": {},
   "outputs": [],
   "source": [
    "sql_insert = \"\"\"\n",
    "INSERT INTO Tweets \n",
    "VALUES (%s, %s, %s, %s, %s, %s, %s, %s, %s, %s, %s, %s, %s, %s, %s)\n",
    "\"\"\"\n",
    "for src_row in cur_src:\n",
    "    row = tuple(data or None for data in src_row)\n",
    "    cur_dest.execute(sql_insert, row)\n",
    "    \n",
    "con_dest.commit()"
   ]
  },
  {
   "cell_type": "code",
   "execution_count": 6,
   "metadata": {},
   "outputs": [
    {
     "name": "stdout",
     "output_type": "stream",
     "text": [
      "{'airline': 'Delta',\n",
      " 'airline_sentiment': 'neutral',\n",
      " 'airline_sentiment_confidence': 1.0,\n",
      " 'airline_sentiment_gold': None,\n",
      " 'name': 'JetBlueNews',\n",
      " 'negativereason': None,\n",
      " 'negativereason_confidence': None,\n",
      " 'negativereason_gold': None,\n",
      " 'retweet_count': None,\n",
      " 'text': \"@JetBlue's new CEO seeks the right balance to please passengers and \"\n",
      "         'Wall ... - Greenfield Daily Reporter http://t.co/LM3opxkxch',\n",
      " 'tweet_coord': None,\n",
      " 'tweet_created': datetime.datetime(2015, 2, 17, 2, 36, 5, tzinfo=psycopg2.tz.FixedOffsetTimezone(offset=-300, name=None)),\n",
      " 'tweet_id': Decimal('567588278875213824'),\n",
      " 'tweet_location': 'USA',\n",
      " 'user_timezone': 'Sydney'}\n",
      "{'airline': 'Delta',\n",
      " 'airline_sentiment': 'negative',\n",
      " 'airline_sentiment_confidence': 1.0,\n",
      " 'airline_sentiment_gold': None,\n",
      " 'name': 'nesi_1992',\n",
      " 'negativereason': \"Can't Tell\",\n",
      " 'negativereason_confidence': 0.6503,\n",
      " 'negativereason_gold': None,\n",
      " 'retweet_count': None,\n",
      " 'text': '@JetBlue is REALLY getting on my nerves !! 😡😡 #nothappy',\n",
      " 'tweet_coord': None,\n",
      " 'tweet_created': datetime.datetime(2015, 2, 17, 2, 43, 2, tzinfo=psycopg2.tz.FixedOffsetTimezone(offset=-300, name=None)),\n",
      " 'tweet_id': Decimal('567590027375702016'),\n",
      " 'tweet_location': 'undecided',\n",
      " 'user_timezone': 'Pacific Time (US & Canada)'}\n"
     ]
    }
   ],
   "source": [
    "from pprint import pprint\n",
    "cur_dest.execute(\"SELECT * FROM Tweets LIMIT 2;\")\n",
    "cols = [c.name for c in cur_dest.description]\n",
    "for row in cur_dest:\n",
    "    pprint(dict(zip(cols, row)))"
   ]
  },
  {
   "cell_type": "markdown",
   "metadata": {},
   "source": [
    "![orange-divider](https://user-images.githubusercontent.com/7065401/98619088-44ab6000-22e1-11eb-8f6d-5532e68ab274.png)\n",
    "\n",
    "## Part 2\n",
    "\n",
    "**Skipping problem data when loading**\n",
    "\n",
    "For this task, we will largely repeat the steps fo the first task.  However, you probably encountered certain problems with the data transfer that you had to manually remediate using Python code.  Rather than \"fix up\" the data in Python, for this version you should simply transfer the unproblematic data, but create another table called `data_issues` where you store the unique `tweet_id` of the problem row, and the error message that occurred.\n",
    "\n",
    "In your solution, **some** data will transfer without remediation, and other data will be marked for later processing in this manner."
   ]
  },
  {
   "cell_type": "code",
   "execution_count": 7,
   "metadata": {},
   "outputs": [],
   "source": [
    "import psycopg2\n",
    "import sqlite3\n",
    "# ... your code here ..."
   ]
  },
  {
   "cell_type": "markdown",
   "metadata": {},
   "source": [
    "**A possible solution**\n",
    "\n",
    "We assume for this solution that the target table `Tweets` is created as in the prior part.  Also that the connections and cursors created in the efirst part are still live."
   ]
  },
  {
   "cell_type": "code",
   "execution_count": 8,
   "metadata": {},
   "outputs": [],
   "source": [
    "sql_create_issues = \"\"\"\n",
    "CREATE TABLE data_issues (\n",
    "    tweet_id DECIMAL(18) PRIMARY KEY, \n",
    "    message TEXT\n",
    "    );\n",
    "\"\"\"\n",
    "# Clear out old content of dest\n",
    "cur_dest.execute('DROP TABLE data_issues;')\n",
    "cur_dest.execute(sql_create_issues)\n",
    "cur_dest.execute('DROP TABLE Tweets')\n",
    "cur_dest.execute(sql_create_tweets)\n",
    "con_dest.commit()"
   ]
  },
  {
   "cell_type": "code",
   "execution_count": 9,
   "metadata": {},
   "outputs": [],
   "source": [
    "cur_src.execute(\"SELECT * FROM Tweets\")\n",
    "\n",
    "i = 0\n",
    "for row in cur_src:\n",
    "    try:\n",
    "        cur_dest.execute(sql_insert, row)\n",
    "    except Exception as err:\n",
    "        con_dest.rollback()\n",
    "        cur_dest.execute(\"INSERT INTO data_issues VALUES (%s, %s);\",\n",
    "                         (row[0], str(err)))\n",
    "        con_dest.commit()\n",
    "    else:\n",
    "        con_dest.commit()"
   ]
  },
  {
   "cell_type": "code",
   "execution_count": 10,
   "metadata": {},
   "outputs": [
    {
     "data": {
      "text/plain": [
       "[(10416,)]"
      ]
     },
     "execution_count": 10,
     "metadata": {},
     "output_type": "execute_result"
    }
   ],
   "source": [
    "cur_dest.execute('SELECT count(*) FROM Tweets;')\n",
    "cur_dest.fetchone()"
   ]
  },
  {
   "cell_type": "code",
   "execution_count": 11,
   "metadata": {},
   "outputs": [
    {
     "data": {
      "text/plain": [
       "[(Decimal('567588278875213824'),\n",
       "  'invalid input syntax for type real: \"\"\\nLINE 3: VALUES (567588278875213824, \\'neutral\\', 1, \\'\\', \\'\\', \\'Delta\\', \\'...\\n                                                      ^\\n'),\n",
       " (Decimal('567634106058821632'),\n",
       "  'invalid input syntax for type real: \"\"\\nLINE 3: VALUES (567634106058821632, \\'neutral\\', 1, \\'\\', \\'\\', \\'United\\', ...\\n                                                      ^\\n'),\n",
       " (Decimal('567643252753694721'),\n",
       "  'invalid input syntax for type real: \"\"\\nLINE 3: VALUES (567643252753694721, \\'neutral\\', 1, \\'\\', \\'\\', \\'US Airway...\\n                                                      ^\\n'),\n",
       " (Decimal('567655489119326209'),\n",
       "  'invalid input syntax for type real: \"\"\\nLINE 3: VALUES (567655489119326209, \\'positive\\', 1, \\'\\', \\'\\', \\'Southwes...\\n                                                       ^\\n'),\n",
       " (Decimal('567667301067915264'),\n",
       "  'invalid input syntax for type real: \"\"\\nLINE 3: VALUES (567667301067915264, \\'neutral\\', 1, \\'\\', \\'\\', \\'Delta\\', \\'...\\n                                                      ^\\n')]"
      ]
     },
     "execution_count": 11,
     "metadata": {},
     "output_type": "execute_result"
    }
   ],
   "source": [
    "cur_dest.execute(\"SELECT * FROM data_issues LIMIT 5;\")\n",
    "cur_dest.fetchall()"
   ]
  },
  {
   "cell_type": "code",
   "execution_count": 12,
   "metadata": {},
   "outputs": [
    {
     "data": {
      "text/plain": [
       "(4069,)"
      ]
     },
     "execution_count": 12,
     "metadata": {},
     "output_type": "execute_result"
    }
   ],
   "source": [
    "cur_dest.execute(\"SELECT count(*) FROM data_issues;\")\n",
    "cur_dest.fetchone()"
   ]
  },
  {
   "cell_type": "markdown",
   "metadata": {},
   "source": [
    "![orange-divider](https://user-images.githubusercontent.com/7065401/98619088-44ab6000-22e1-11eb-8f6d-5532e68ab274.png)\n"
   ]
  }
 ],
 "metadata": {
  "kernelspec": {
   "display_name": "Python 3",
   "language": "python",
   "name": "python3"
  },
  "language_info": {
   "codemirror_mode": {
    "name": "ipython",
    "version": 3
   },
   "file_extension": ".py",
   "mimetype": "text/x-python",
   "name": "python",
   "nbconvert_exporter": "python",
   "pygments_lexer": "ipython3",
   "version": "3.8.6"
  }
 },
 "nbformat": 4,
 "nbformat_minor": 4
}
